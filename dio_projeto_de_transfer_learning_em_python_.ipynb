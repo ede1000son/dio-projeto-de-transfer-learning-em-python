{
  "nbformat": 4,
  "nbformat_minor": 0,
  "metadata": {
    "colab": {
      "provenance": [],
      "gpuType": "T4"
    },
    "kernelspec": {
      "name": "python3",
      "display_name": "Python 3"
    },
    "language_info": {
      "name": "python"
    },
    "accelerator": "GPU",
    "widgets": {
      "application/vnd.jupyter.widget-state+json": {
        "cc850dbe4a7c4d9da6e604105f559b51": {
          "model_module": "@jupyter-widgets/controls",
          "model_name": "HBoxModel",
          "model_module_version": "1.5.0",
          "state": {
            "_dom_classes": [],
            "_model_module": "@jupyter-widgets/controls",
            "_model_module_version": "1.5.0",
            "_model_name": "HBoxModel",
            "_view_count": null,
            "_view_module": "@jupyter-widgets/controls",
            "_view_module_version": "1.5.0",
            "_view_name": "HBoxView",
            "box_style": "",
            "children": [
              "IPY_MODEL_bc69c74e6b6d4ab7b9040317695e31c6",
              "IPY_MODEL_711b64dbaf264ba781655ebc66377e96",
              "IPY_MODEL_546bb9d0479e4aa18689d35f2ae18b7c"
            ],
            "layout": "IPY_MODEL_105622ca11e14586ab9cbfd70116cc19"
          }
        },
        "bc69c74e6b6d4ab7b9040317695e31c6": {
          "model_module": "@jupyter-widgets/controls",
          "model_name": "HTMLModel",
          "model_module_version": "1.5.0",
          "state": {
            "_dom_classes": [],
            "_model_module": "@jupyter-widgets/controls",
            "_model_module_version": "1.5.0",
            "_model_name": "HTMLModel",
            "_view_count": null,
            "_view_module": "@jupyter-widgets/controls",
            "_view_module_version": "1.5.0",
            "_view_name": "HTMLView",
            "description": "",
            "description_tooltip": null,
            "layout": "IPY_MODEL_a68bea03ea054f7684090cfb97631e1c",
            "placeholder": "​",
            "style": "IPY_MODEL_2552fa22b28447d1b3f1938aadc2d808",
            "value": "Dl Completed...: 100%"
          }
        },
        "711b64dbaf264ba781655ebc66377e96": {
          "model_module": "@jupyter-widgets/controls",
          "model_name": "FloatProgressModel",
          "model_module_version": "1.5.0",
          "state": {
            "_dom_classes": [],
            "_model_module": "@jupyter-widgets/controls",
            "_model_module_version": "1.5.0",
            "_model_name": "FloatProgressModel",
            "_view_count": null,
            "_view_module": "@jupyter-widgets/controls",
            "_view_module_version": "1.5.0",
            "_view_name": "ProgressView",
            "bar_style": "success",
            "description": "",
            "description_tooltip": null,
            "layout": "IPY_MODEL_84a5eb701fe54d479fe64473a8ac7872",
            "max": 1,
            "min": 0,
            "orientation": "horizontal",
            "style": "IPY_MODEL_ec3e9847601043b393167c4bd7f1bec4",
            "value": 1
          }
        },
        "546bb9d0479e4aa18689d35f2ae18b7c": {
          "model_module": "@jupyter-widgets/controls",
          "model_name": "HTMLModel",
          "model_module_version": "1.5.0",
          "state": {
            "_dom_classes": [],
            "_model_module": "@jupyter-widgets/controls",
            "_model_module_version": "1.5.0",
            "_model_name": "HTMLModel",
            "_view_count": null,
            "_view_module": "@jupyter-widgets/controls",
            "_view_module_version": "1.5.0",
            "_view_name": "HTMLView",
            "description": "",
            "description_tooltip": null,
            "layout": "IPY_MODEL_60e6312c4dfd4e64b5b8370dda6a5f98",
            "placeholder": "​",
            "style": "IPY_MODEL_2727848d3e814199924bf3e8da469122",
            "value": " 1/1 [00:12&lt;00:00, 12.50s/ url]"
          }
        },
        "105622ca11e14586ab9cbfd70116cc19": {
          "model_module": "@jupyter-widgets/base",
          "model_name": "LayoutModel",
          "model_module_version": "1.2.0",
          "state": {
            "_model_module": "@jupyter-widgets/base",
            "_model_module_version": "1.2.0",
            "_model_name": "LayoutModel",
            "_view_count": null,
            "_view_module": "@jupyter-widgets/base",
            "_view_module_version": "1.2.0",
            "_view_name": "LayoutView",
            "align_content": null,
            "align_items": null,
            "align_self": null,
            "border": null,
            "bottom": null,
            "display": null,
            "flex": null,
            "flex_flow": null,
            "grid_area": null,
            "grid_auto_columns": null,
            "grid_auto_flow": null,
            "grid_auto_rows": null,
            "grid_column": null,
            "grid_gap": null,
            "grid_row": null,
            "grid_template_areas": null,
            "grid_template_columns": null,
            "grid_template_rows": null,
            "height": null,
            "justify_content": null,
            "justify_items": null,
            "left": null,
            "margin": null,
            "max_height": null,
            "max_width": null,
            "min_height": null,
            "min_width": null,
            "object_fit": null,
            "object_position": null,
            "order": null,
            "overflow": null,
            "overflow_x": null,
            "overflow_y": null,
            "padding": null,
            "right": null,
            "top": null,
            "visibility": null,
            "width": null
          }
        },
        "a68bea03ea054f7684090cfb97631e1c": {
          "model_module": "@jupyter-widgets/base",
          "model_name": "LayoutModel",
          "model_module_version": "1.2.0",
          "state": {
            "_model_module": "@jupyter-widgets/base",
            "_model_module_version": "1.2.0",
            "_model_name": "LayoutModel",
            "_view_count": null,
            "_view_module": "@jupyter-widgets/base",
            "_view_module_version": "1.2.0",
            "_view_name": "LayoutView",
            "align_content": null,
            "align_items": null,
            "align_self": null,
            "border": null,
            "bottom": null,
            "display": null,
            "flex": null,
            "flex_flow": null,
            "grid_area": null,
            "grid_auto_columns": null,
            "grid_auto_flow": null,
            "grid_auto_rows": null,
            "grid_column": null,
            "grid_gap": null,
            "grid_row": null,
            "grid_template_areas": null,
            "grid_template_columns": null,
            "grid_template_rows": null,
            "height": null,
            "justify_content": null,
            "justify_items": null,
            "left": null,
            "margin": null,
            "max_height": null,
            "max_width": null,
            "min_height": null,
            "min_width": null,
            "object_fit": null,
            "object_position": null,
            "order": null,
            "overflow": null,
            "overflow_x": null,
            "overflow_y": null,
            "padding": null,
            "right": null,
            "top": null,
            "visibility": null,
            "width": null
          }
        },
        "2552fa22b28447d1b3f1938aadc2d808": {
          "model_module": "@jupyter-widgets/controls",
          "model_name": "DescriptionStyleModel",
          "model_module_version": "1.5.0",
          "state": {
            "_model_module": "@jupyter-widgets/controls",
            "_model_module_version": "1.5.0",
            "_model_name": "DescriptionStyleModel",
            "_view_count": null,
            "_view_module": "@jupyter-widgets/base",
            "_view_module_version": "1.2.0",
            "_view_name": "StyleView",
            "description_width": ""
          }
        },
        "84a5eb701fe54d479fe64473a8ac7872": {
          "model_module": "@jupyter-widgets/base",
          "model_name": "LayoutModel",
          "model_module_version": "1.2.0",
          "state": {
            "_model_module": "@jupyter-widgets/base",
            "_model_module_version": "1.2.0",
            "_model_name": "LayoutModel",
            "_view_count": null,
            "_view_module": "@jupyter-widgets/base",
            "_view_module_version": "1.2.0",
            "_view_name": "LayoutView",
            "align_content": null,
            "align_items": null,
            "align_self": null,
            "border": null,
            "bottom": null,
            "display": null,
            "flex": null,
            "flex_flow": null,
            "grid_area": null,
            "grid_auto_columns": null,
            "grid_auto_flow": null,
            "grid_auto_rows": null,
            "grid_column": null,
            "grid_gap": null,
            "grid_row": null,
            "grid_template_areas": null,
            "grid_template_columns": null,
            "grid_template_rows": null,
            "height": null,
            "justify_content": null,
            "justify_items": null,
            "left": null,
            "margin": null,
            "max_height": null,
            "max_width": null,
            "min_height": null,
            "min_width": null,
            "object_fit": null,
            "object_position": null,
            "order": null,
            "overflow": null,
            "overflow_x": null,
            "overflow_y": null,
            "padding": null,
            "right": null,
            "top": null,
            "visibility": null,
            "width": "20px"
          }
        },
        "ec3e9847601043b393167c4bd7f1bec4": {
          "model_module": "@jupyter-widgets/controls",
          "model_name": "ProgressStyleModel",
          "model_module_version": "1.5.0",
          "state": {
            "_model_module": "@jupyter-widgets/controls",
            "_model_module_version": "1.5.0",
            "_model_name": "ProgressStyleModel",
            "_view_count": null,
            "_view_module": "@jupyter-widgets/base",
            "_view_module_version": "1.2.0",
            "_view_name": "StyleView",
            "bar_color": null,
            "description_width": ""
          }
        },
        "60e6312c4dfd4e64b5b8370dda6a5f98": {
          "model_module": "@jupyter-widgets/base",
          "model_name": "LayoutModel",
          "model_module_version": "1.2.0",
          "state": {
            "_model_module": "@jupyter-widgets/base",
            "_model_module_version": "1.2.0",
            "_model_name": "LayoutModel",
            "_view_count": null,
            "_view_module": "@jupyter-widgets/base",
            "_view_module_version": "1.2.0",
            "_view_name": "LayoutView",
            "align_content": null,
            "align_items": null,
            "align_self": null,
            "border": null,
            "bottom": null,
            "display": null,
            "flex": null,
            "flex_flow": null,
            "grid_area": null,
            "grid_auto_columns": null,
            "grid_auto_flow": null,
            "grid_auto_rows": null,
            "grid_column": null,
            "grid_gap": null,
            "grid_row": null,
            "grid_template_areas": null,
            "grid_template_columns": null,
            "grid_template_rows": null,
            "height": null,
            "justify_content": null,
            "justify_items": null,
            "left": null,
            "margin": null,
            "max_height": null,
            "max_width": null,
            "min_height": null,
            "min_width": null,
            "object_fit": null,
            "object_position": null,
            "order": null,
            "overflow": null,
            "overflow_x": null,
            "overflow_y": null,
            "padding": null,
            "right": null,
            "top": null,
            "visibility": null,
            "width": null
          }
        },
        "2727848d3e814199924bf3e8da469122": {
          "model_module": "@jupyter-widgets/controls",
          "model_name": "DescriptionStyleModel",
          "model_module_version": "1.5.0",
          "state": {
            "_model_module": "@jupyter-widgets/controls",
            "_model_module_version": "1.5.0",
            "_model_name": "DescriptionStyleModel",
            "_view_count": null,
            "_view_module": "@jupyter-widgets/base",
            "_view_module_version": "1.2.0",
            "_view_name": "StyleView",
            "description_width": ""
          }
        },
        "8f3d8ac54551446a973fa5f232fa5731": {
          "model_module": "@jupyter-widgets/controls",
          "model_name": "HBoxModel",
          "model_module_version": "1.5.0",
          "state": {
            "_dom_classes": [],
            "_model_module": "@jupyter-widgets/controls",
            "_model_module_version": "1.5.0",
            "_model_name": "HBoxModel",
            "_view_count": null,
            "_view_module": "@jupyter-widgets/controls",
            "_view_module_version": "1.5.0",
            "_view_name": "HBoxView",
            "box_style": "",
            "children": [
              "IPY_MODEL_8fbf9dd17c2b490dbfa0f820687ccd9a",
              "IPY_MODEL_2c35bcde1ee7433bb388b4b579dd3b76",
              "IPY_MODEL_8eff37d1d8964c20bad4c29fb60e4c1b"
            ],
            "layout": "IPY_MODEL_5e9f887425cd42c0b5e2876a74aacb07"
          }
        },
        "8fbf9dd17c2b490dbfa0f820687ccd9a": {
          "model_module": "@jupyter-widgets/controls",
          "model_name": "HTMLModel",
          "model_module_version": "1.5.0",
          "state": {
            "_dom_classes": [],
            "_model_module": "@jupyter-widgets/controls",
            "_model_module_version": "1.5.0",
            "_model_name": "HTMLModel",
            "_view_count": null,
            "_view_module": "@jupyter-widgets/controls",
            "_view_module_version": "1.5.0",
            "_view_name": "HTMLView",
            "description": "",
            "description_tooltip": null,
            "layout": "IPY_MODEL_7cfaffadd7014ddf9ec2d2ac45c49b17",
            "placeholder": "​",
            "style": "IPY_MODEL_c4181639c3b449bf89b9e2df7b4d089c",
            "value": "Dl Size...: 100%"
          }
        },
        "2c35bcde1ee7433bb388b4b579dd3b76": {
          "model_module": "@jupyter-widgets/controls",
          "model_name": "FloatProgressModel",
          "model_module_version": "1.5.0",
          "state": {
            "_dom_classes": [],
            "_model_module": "@jupyter-widgets/controls",
            "_model_module_version": "1.5.0",
            "_model_name": "FloatProgressModel",
            "_view_count": null,
            "_view_module": "@jupyter-widgets/controls",
            "_view_module_version": "1.5.0",
            "_view_name": "ProgressView",
            "bar_style": "success",
            "description": "",
            "description_tooltip": null,
            "layout": "IPY_MODEL_2067d5eee87043de895ee069ebf63925",
            "max": 1,
            "min": 0,
            "orientation": "horizontal",
            "style": "IPY_MODEL_140edae2c13a43719396be9545189c30",
            "value": 1
          }
        },
        "8eff37d1d8964c20bad4c29fb60e4c1b": {
          "model_module": "@jupyter-widgets/controls",
          "model_name": "HTMLModel",
          "model_module_version": "1.5.0",
          "state": {
            "_dom_classes": [],
            "_model_module": "@jupyter-widgets/controls",
            "_model_module_version": "1.5.0",
            "_model_name": "HTMLModel",
            "_view_count": null,
            "_view_module": "@jupyter-widgets/controls",
            "_view_module_version": "1.5.0",
            "_view_name": "HTMLView",
            "description": "",
            "description_tooltip": null,
            "layout": "IPY_MODEL_b8f4d5be6180426dbaaa9870afd83895",
            "placeholder": "​",
            "style": "IPY_MODEL_1a8bb64298094517b1a648868ea6fb5b",
            "value": " 786/786 [00:12&lt;00:00, 76.82 MiB/s]"
          }
        },
        "5e9f887425cd42c0b5e2876a74aacb07": {
          "model_module": "@jupyter-widgets/base",
          "model_name": "LayoutModel",
          "model_module_version": "1.2.0",
          "state": {
            "_model_module": "@jupyter-widgets/base",
            "_model_module_version": "1.2.0",
            "_model_name": "LayoutModel",
            "_view_count": null,
            "_view_module": "@jupyter-widgets/base",
            "_view_module_version": "1.2.0",
            "_view_name": "LayoutView",
            "align_content": null,
            "align_items": null,
            "align_self": null,
            "border": null,
            "bottom": null,
            "display": null,
            "flex": null,
            "flex_flow": null,
            "grid_area": null,
            "grid_auto_columns": null,
            "grid_auto_flow": null,
            "grid_auto_rows": null,
            "grid_column": null,
            "grid_gap": null,
            "grid_row": null,
            "grid_template_areas": null,
            "grid_template_columns": null,
            "grid_template_rows": null,
            "height": null,
            "justify_content": null,
            "justify_items": null,
            "left": null,
            "margin": null,
            "max_height": null,
            "max_width": null,
            "min_height": null,
            "min_width": null,
            "object_fit": null,
            "object_position": null,
            "order": null,
            "overflow": null,
            "overflow_x": null,
            "overflow_y": null,
            "padding": null,
            "right": null,
            "top": null,
            "visibility": null,
            "width": null
          }
        },
        "7cfaffadd7014ddf9ec2d2ac45c49b17": {
          "model_module": "@jupyter-widgets/base",
          "model_name": "LayoutModel",
          "model_module_version": "1.2.0",
          "state": {
            "_model_module": "@jupyter-widgets/base",
            "_model_module_version": "1.2.0",
            "_model_name": "LayoutModel",
            "_view_count": null,
            "_view_module": "@jupyter-widgets/base",
            "_view_module_version": "1.2.0",
            "_view_name": "LayoutView",
            "align_content": null,
            "align_items": null,
            "align_self": null,
            "border": null,
            "bottom": null,
            "display": null,
            "flex": null,
            "flex_flow": null,
            "grid_area": null,
            "grid_auto_columns": null,
            "grid_auto_flow": null,
            "grid_auto_rows": null,
            "grid_column": null,
            "grid_gap": null,
            "grid_row": null,
            "grid_template_areas": null,
            "grid_template_columns": null,
            "grid_template_rows": null,
            "height": null,
            "justify_content": null,
            "justify_items": null,
            "left": null,
            "margin": null,
            "max_height": null,
            "max_width": null,
            "min_height": null,
            "min_width": null,
            "object_fit": null,
            "object_position": null,
            "order": null,
            "overflow": null,
            "overflow_x": null,
            "overflow_y": null,
            "padding": null,
            "right": null,
            "top": null,
            "visibility": null,
            "width": null
          }
        },
        "c4181639c3b449bf89b9e2df7b4d089c": {
          "model_module": "@jupyter-widgets/controls",
          "model_name": "DescriptionStyleModel",
          "model_module_version": "1.5.0",
          "state": {
            "_model_module": "@jupyter-widgets/controls",
            "_model_module_version": "1.5.0",
            "_model_name": "DescriptionStyleModel",
            "_view_count": null,
            "_view_module": "@jupyter-widgets/base",
            "_view_module_version": "1.2.0",
            "_view_name": "StyleView",
            "description_width": ""
          }
        },
        "2067d5eee87043de895ee069ebf63925": {
          "model_module": "@jupyter-widgets/base",
          "model_name": "LayoutModel",
          "model_module_version": "1.2.0",
          "state": {
            "_model_module": "@jupyter-widgets/base",
            "_model_module_version": "1.2.0",
            "_model_name": "LayoutModel",
            "_view_count": null,
            "_view_module": "@jupyter-widgets/base",
            "_view_module_version": "1.2.0",
            "_view_name": "LayoutView",
            "align_content": null,
            "align_items": null,
            "align_self": null,
            "border": null,
            "bottom": null,
            "display": null,
            "flex": null,
            "flex_flow": null,
            "grid_area": null,
            "grid_auto_columns": null,
            "grid_auto_flow": null,
            "grid_auto_rows": null,
            "grid_column": null,
            "grid_gap": null,
            "grid_row": null,
            "grid_template_areas": null,
            "grid_template_columns": null,
            "grid_template_rows": null,
            "height": null,
            "justify_content": null,
            "justify_items": null,
            "left": null,
            "margin": null,
            "max_height": null,
            "max_width": null,
            "min_height": null,
            "min_width": null,
            "object_fit": null,
            "object_position": null,
            "order": null,
            "overflow": null,
            "overflow_x": null,
            "overflow_y": null,
            "padding": null,
            "right": null,
            "top": null,
            "visibility": null,
            "width": "20px"
          }
        },
        "140edae2c13a43719396be9545189c30": {
          "model_module": "@jupyter-widgets/controls",
          "model_name": "ProgressStyleModel",
          "model_module_version": "1.5.0",
          "state": {
            "_model_module": "@jupyter-widgets/controls",
            "_model_module_version": "1.5.0",
            "_model_name": "ProgressStyleModel",
            "_view_count": null,
            "_view_module": "@jupyter-widgets/base",
            "_view_module_version": "1.2.0",
            "_view_name": "StyleView",
            "bar_color": null,
            "description_width": ""
          }
        },
        "b8f4d5be6180426dbaaa9870afd83895": {
          "model_module": "@jupyter-widgets/base",
          "model_name": "LayoutModel",
          "model_module_version": "1.2.0",
          "state": {
            "_model_module": "@jupyter-widgets/base",
            "_model_module_version": "1.2.0",
            "_model_name": "LayoutModel",
            "_view_count": null,
            "_view_module": "@jupyter-widgets/base",
            "_view_module_version": "1.2.0",
            "_view_name": "LayoutView",
            "align_content": null,
            "align_items": null,
            "align_self": null,
            "border": null,
            "bottom": null,
            "display": null,
            "flex": null,
            "flex_flow": null,
            "grid_area": null,
            "grid_auto_columns": null,
            "grid_auto_flow": null,
            "grid_auto_rows": null,
            "grid_column": null,
            "grid_gap": null,
            "grid_row": null,
            "grid_template_areas": null,
            "grid_template_columns": null,
            "grid_template_rows": null,
            "height": null,
            "justify_content": null,
            "justify_items": null,
            "left": null,
            "margin": null,
            "max_height": null,
            "max_width": null,
            "min_height": null,
            "min_width": null,
            "object_fit": null,
            "object_position": null,
            "order": null,
            "overflow": null,
            "overflow_x": null,
            "overflow_y": null,
            "padding": null,
            "right": null,
            "top": null,
            "visibility": null,
            "width": null
          }
        },
        "1a8bb64298094517b1a648868ea6fb5b": {
          "model_module": "@jupyter-widgets/controls",
          "model_name": "DescriptionStyleModel",
          "model_module_version": "1.5.0",
          "state": {
            "_model_module": "@jupyter-widgets/controls",
            "_model_module_version": "1.5.0",
            "_model_name": "DescriptionStyleModel",
            "_view_count": null,
            "_view_module": "@jupyter-widgets/base",
            "_view_module_version": "1.2.0",
            "_view_name": "StyleView",
            "description_width": ""
          }
        },
        "a89bd57a216c47cb8d5d5b0e6377c7d9": {
          "model_module": "@jupyter-widgets/controls",
          "model_name": "HBoxModel",
          "model_module_version": "1.5.0",
          "state": {
            "_dom_classes": [],
            "_model_module": "@jupyter-widgets/controls",
            "_model_module_version": "1.5.0",
            "_model_name": "HBoxModel",
            "_view_count": null,
            "_view_module": "@jupyter-widgets/controls",
            "_view_module_version": "1.5.0",
            "_view_name": "HBoxView",
            "box_style": "",
            "children": [
              "IPY_MODEL_acce19c65dcd476990dc1132fc7e67a2",
              "IPY_MODEL_51af5830e76a4c5d941a6f4818dda96a",
              "IPY_MODEL_95cbe4995fcc44daa7a61b57ed034fed"
            ],
            "layout": "IPY_MODEL_9af0b48e7a6547fc89ce9bfaa3e3ee61"
          }
        },
        "acce19c65dcd476990dc1132fc7e67a2": {
          "model_module": "@jupyter-widgets/controls",
          "model_name": "HTMLModel",
          "model_module_version": "1.5.0",
          "state": {
            "_dom_classes": [],
            "_model_module": "@jupyter-widgets/controls",
            "_model_module_version": "1.5.0",
            "_model_name": "HTMLModel",
            "_view_count": null,
            "_view_module": "@jupyter-widgets/controls",
            "_view_module_version": "1.5.0",
            "_view_name": "HTMLView",
            "description": "",
            "description_tooltip": null,
            "layout": "IPY_MODEL_4a47694828294a7889c7ec9126398c46",
            "placeholder": "​",
            "style": "IPY_MODEL_b8dbbd00831c4dc38edc1d844c40db58",
            "value": "Generating splits...: 100%"
          }
        },
        "51af5830e76a4c5d941a6f4818dda96a": {
          "model_module": "@jupyter-widgets/controls",
          "model_name": "FloatProgressModel",
          "model_module_version": "1.5.0",
          "state": {
            "_dom_classes": [],
            "_model_module": "@jupyter-widgets/controls",
            "_model_module_version": "1.5.0",
            "_model_name": "FloatProgressModel",
            "_view_count": null,
            "_view_module": "@jupyter-widgets/controls",
            "_view_module_version": "1.5.0",
            "_view_name": "ProgressView",
            "bar_style": "",
            "description": "",
            "description_tooltip": null,
            "layout": "IPY_MODEL_69b5105ac77b4f37a7d951b5f6fceb8b",
            "max": 1,
            "min": 0,
            "orientation": "horizontal",
            "style": "IPY_MODEL_f11c06391ac14ac2bce2e0c4f5573c2c",
            "value": 1
          }
        },
        "95cbe4995fcc44daa7a61b57ed034fed": {
          "model_module": "@jupyter-widgets/controls",
          "model_name": "HTMLModel",
          "model_module_version": "1.5.0",
          "state": {
            "_dom_classes": [],
            "_model_module": "@jupyter-widgets/controls",
            "_model_module_version": "1.5.0",
            "_model_name": "HTMLModel",
            "_view_count": null,
            "_view_module": "@jupyter-widgets/controls",
            "_view_module_version": "1.5.0",
            "_view_name": "HTMLView",
            "description": "",
            "description_tooltip": null,
            "layout": "IPY_MODEL_e1a95bf87e694e50b6520994ae97f19f",
            "placeholder": "​",
            "style": "IPY_MODEL_7c1962d8090f44a9b6426f278cf4eaf0",
            "value": " 1/1 [01:16&lt;00:00, 76.85s/ splits]"
          }
        },
        "9af0b48e7a6547fc89ce9bfaa3e3ee61": {
          "model_module": "@jupyter-widgets/base",
          "model_name": "LayoutModel",
          "model_module_version": "1.2.0",
          "state": {
            "_model_module": "@jupyter-widgets/base",
            "_model_module_version": "1.2.0",
            "_model_name": "LayoutModel",
            "_view_count": null,
            "_view_module": "@jupyter-widgets/base",
            "_view_module_version": "1.2.0",
            "_view_name": "LayoutView",
            "align_content": null,
            "align_items": null,
            "align_self": null,
            "border": null,
            "bottom": null,
            "display": null,
            "flex": null,
            "flex_flow": null,
            "grid_area": null,
            "grid_auto_columns": null,
            "grid_auto_flow": null,
            "grid_auto_rows": null,
            "grid_column": null,
            "grid_gap": null,
            "grid_row": null,
            "grid_template_areas": null,
            "grid_template_columns": null,
            "grid_template_rows": null,
            "height": null,
            "justify_content": null,
            "justify_items": null,
            "left": null,
            "margin": null,
            "max_height": null,
            "max_width": null,
            "min_height": null,
            "min_width": null,
            "object_fit": null,
            "object_position": null,
            "order": null,
            "overflow": null,
            "overflow_x": null,
            "overflow_y": null,
            "padding": null,
            "right": null,
            "top": null,
            "visibility": "hidden",
            "width": null
          }
        },
        "4a47694828294a7889c7ec9126398c46": {
          "model_module": "@jupyter-widgets/base",
          "model_name": "LayoutModel",
          "model_module_version": "1.2.0",
          "state": {
            "_model_module": "@jupyter-widgets/base",
            "_model_module_version": "1.2.0",
            "_model_name": "LayoutModel",
            "_view_count": null,
            "_view_module": "@jupyter-widgets/base",
            "_view_module_version": "1.2.0",
            "_view_name": "LayoutView",
            "align_content": null,
            "align_items": null,
            "align_self": null,
            "border": null,
            "bottom": null,
            "display": null,
            "flex": null,
            "flex_flow": null,
            "grid_area": null,
            "grid_auto_columns": null,
            "grid_auto_flow": null,
            "grid_auto_rows": null,
            "grid_column": null,
            "grid_gap": null,
            "grid_row": null,
            "grid_template_areas": null,
            "grid_template_columns": null,
            "grid_template_rows": null,
            "height": null,
            "justify_content": null,
            "justify_items": null,
            "left": null,
            "margin": null,
            "max_height": null,
            "max_width": null,
            "min_height": null,
            "min_width": null,
            "object_fit": null,
            "object_position": null,
            "order": null,
            "overflow": null,
            "overflow_x": null,
            "overflow_y": null,
            "padding": null,
            "right": null,
            "top": null,
            "visibility": null,
            "width": null
          }
        },
        "b8dbbd00831c4dc38edc1d844c40db58": {
          "model_module": "@jupyter-widgets/controls",
          "model_name": "DescriptionStyleModel",
          "model_module_version": "1.5.0",
          "state": {
            "_model_module": "@jupyter-widgets/controls",
            "_model_module_version": "1.5.0",
            "_model_name": "DescriptionStyleModel",
            "_view_count": null,
            "_view_module": "@jupyter-widgets/base",
            "_view_module_version": "1.2.0",
            "_view_name": "StyleView",
            "description_width": ""
          }
        },
        "69b5105ac77b4f37a7d951b5f6fceb8b": {
          "model_module": "@jupyter-widgets/base",
          "model_name": "LayoutModel",
          "model_module_version": "1.2.0",
          "state": {
            "_model_module": "@jupyter-widgets/base",
            "_model_module_version": "1.2.0",
            "_model_name": "LayoutModel",
            "_view_count": null,
            "_view_module": "@jupyter-widgets/base",
            "_view_module_version": "1.2.0",
            "_view_name": "LayoutView",
            "align_content": null,
            "align_items": null,
            "align_self": null,
            "border": null,
            "bottom": null,
            "display": null,
            "flex": null,
            "flex_flow": null,
            "grid_area": null,
            "grid_auto_columns": null,
            "grid_auto_flow": null,
            "grid_auto_rows": null,
            "grid_column": null,
            "grid_gap": null,
            "grid_row": null,
            "grid_template_areas": null,
            "grid_template_columns": null,
            "grid_template_rows": null,
            "height": null,
            "justify_content": null,
            "justify_items": null,
            "left": null,
            "margin": null,
            "max_height": null,
            "max_width": null,
            "min_height": null,
            "min_width": null,
            "object_fit": null,
            "object_position": null,
            "order": null,
            "overflow": null,
            "overflow_x": null,
            "overflow_y": null,
            "padding": null,
            "right": null,
            "top": null,
            "visibility": null,
            "width": null
          }
        },
        "f11c06391ac14ac2bce2e0c4f5573c2c": {
          "model_module": "@jupyter-widgets/controls",
          "model_name": "ProgressStyleModel",
          "model_module_version": "1.5.0",
          "state": {
            "_model_module": "@jupyter-widgets/controls",
            "_model_module_version": "1.5.0",
            "_model_name": "ProgressStyleModel",
            "_view_count": null,
            "_view_module": "@jupyter-widgets/base",
            "_view_module_version": "1.2.0",
            "_view_name": "StyleView",
            "bar_color": null,
            "description_width": ""
          }
        },
        "e1a95bf87e694e50b6520994ae97f19f": {
          "model_module": "@jupyter-widgets/base",
          "model_name": "LayoutModel",
          "model_module_version": "1.2.0",
          "state": {
            "_model_module": "@jupyter-widgets/base",
            "_model_module_version": "1.2.0",
            "_model_name": "LayoutModel",
            "_view_count": null,
            "_view_module": "@jupyter-widgets/base",
            "_view_module_version": "1.2.0",
            "_view_name": "LayoutView",
            "align_content": null,
            "align_items": null,
            "align_self": null,
            "border": null,
            "bottom": null,
            "display": null,
            "flex": null,
            "flex_flow": null,
            "grid_area": null,
            "grid_auto_columns": null,
            "grid_auto_flow": null,
            "grid_auto_rows": null,
            "grid_column": null,
            "grid_gap": null,
            "grid_row": null,
            "grid_template_areas": null,
            "grid_template_columns": null,
            "grid_template_rows": null,
            "height": null,
            "justify_content": null,
            "justify_items": null,
            "left": null,
            "margin": null,
            "max_height": null,
            "max_width": null,
            "min_height": null,
            "min_width": null,
            "object_fit": null,
            "object_position": null,
            "order": null,
            "overflow": null,
            "overflow_x": null,
            "overflow_y": null,
            "padding": null,
            "right": null,
            "top": null,
            "visibility": null,
            "width": null
          }
        },
        "7c1962d8090f44a9b6426f278cf4eaf0": {
          "model_module": "@jupyter-widgets/controls",
          "model_name": "DescriptionStyleModel",
          "model_module_version": "1.5.0",
          "state": {
            "_model_module": "@jupyter-widgets/controls",
            "_model_module_version": "1.5.0",
            "_model_name": "DescriptionStyleModel",
            "_view_count": null,
            "_view_module": "@jupyter-widgets/base",
            "_view_module_version": "1.2.0",
            "_view_name": "StyleView",
            "description_width": ""
          }
        },
        "a8e103ab08a94d2fbf35d3f64329d141": {
          "model_module": "@jupyter-widgets/controls",
          "model_name": "HBoxModel",
          "model_module_version": "1.5.0",
          "state": {
            "_dom_classes": [],
            "_model_module": "@jupyter-widgets/controls",
            "_model_module_version": "1.5.0",
            "_model_name": "HBoxModel",
            "_view_count": null,
            "_view_module": "@jupyter-widgets/controls",
            "_view_module_version": "1.5.0",
            "_view_name": "HBoxView",
            "box_style": "",
            "children": [
              "IPY_MODEL_95a2699b7d3b40b9a40f77cf9f6227b5",
              "IPY_MODEL_22dc70456cd04ad4be060f749c1f54b7",
              "IPY_MODEL_b66b5fce04ae4c79afda9465c244df2e"
            ],
            "layout": "IPY_MODEL_b000b1e6b660426697687830eb85e090"
          }
        },
        "95a2699b7d3b40b9a40f77cf9f6227b5": {
          "model_module": "@jupyter-widgets/controls",
          "model_name": "HTMLModel",
          "model_module_version": "1.5.0",
          "state": {
            "_dom_classes": [],
            "_model_module": "@jupyter-widgets/controls",
            "_model_module_version": "1.5.0",
            "_model_name": "HTMLModel",
            "_view_count": null,
            "_view_module": "@jupyter-widgets/controls",
            "_view_module_version": "1.5.0",
            "_view_name": "HTMLView",
            "description": "",
            "description_tooltip": null,
            "layout": "IPY_MODEL_cc249b0eafdd4548ac807300cf047103",
            "placeholder": "​",
            "style": "IPY_MODEL_b74313c45f544c5eaed6e2ff4d081639",
            "value": "Generating train examples...: "
          }
        },
        "22dc70456cd04ad4be060f749c1f54b7": {
          "model_module": "@jupyter-widgets/controls",
          "model_name": "FloatProgressModel",
          "model_module_version": "1.5.0",
          "state": {
            "_dom_classes": [],
            "_model_module": "@jupyter-widgets/controls",
            "_model_module_version": "1.5.0",
            "_model_name": "FloatProgressModel",
            "_view_count": null,
            "_view_module": "@jupyter-widgets/controls",
            "_view_module_version": "1.5.0",
            "_view_name": "ProgressView",
            "bar_style": "info",
            "description": "",
            "description_tooltip": null,
            "layout": "IPY_MODEL_74b3c398be76415f8aa47ae430a235c6",
            "max": 1,
            "min": 0,
            "orientation": "horizontal",
            "style": "IPY_MODEL_1aa36b0072bd40149ac5a3e3028f7ff8",
            "value": 1
          }
        },
        "b66b5fce04ae4c79afda9465c244df2e": {
          "model_module": "@jupyter-widgets/controls",
          "model_name": "HTMLModel",
          "model_module_version": "1.5.0",
          "state": {
            "_dom_classes": [],
            "_model_module": "@jupyter-widgets/controls",
            "_model_module_version": "1.5.0",
            "_model_name": "HTMLModel",
            "_view_count": null,
            "_view_module": "@jupyter-widgets/controls",
            "_view_module_version": "1.5.0",
            "_view_name": "HTMLView",
            "description": "",
            "description_tooltip": null,
            "layout": "IPY_MODEL_046d66abf6a14c8084e0582c7044ac16",
            "placeholder": "​",
            "style": "IPY_MODEL_69a5a9c3d7b04f9da9355517bf32db31",
            "value": " 23144/? [01:12&lt;00:00, 190.24 examples/s]"
          }
        },
        "b000b1e6b660426697687830eb85e090": {
          "model_module": "@jupyter-widgets/base",
          "model_name": "LayoutModel",
          "model_module_version": "1.2.0",
          "state": {
            "_model_module": "@jupyter-widgets/base",
            "_model_module_version": "1.2.0",
            "_model_name": "LayoutModel",
            "_view_count": null,
            "_view_module": "@jupyter-widgets/base",
            "_view_module_version": "1.2.0",
            "_view_name": "LayoutView",
            "align_content": null,
            "align_items": null,
            "align_self": null,
            "border": null,
            "bottom": null,
            "display": null,
            "flex": null,
            "flex_flow": null,
            "grid_area": null,
            "grid_auto_columns": null,
            "grid_auto_flow": null,
            "grid_auto_rows": null,
            "grid_column": null,
            "grid_gap": null,
            "grid_row": null,
            "grid_template_areas": null,
            "grid_template_columns": null,
            "grid_template_rows": null,
            "height": null,
            "justify_content": null,
            "justify_items": null,
            "left": null,
            "margin": null,
            "max_height": null,
            "max_width": null,
            "min_height": null,
            "min_width": null,
            "object_fit": null,
            "object_position": null,
            "order": null,
            "overflow": null,
            "overflow_x": null,
            "overflow_y": null,
            "padding": null,
            "right": null,
            "top": null,
            "visibility": "hidden",
            "width": null
          }
        },
        "cc249b0eafdd4548ac807300cf047103": {
          "model_module": "@jupyter-widgets/base",
          "model_name": "LayoutModel",
          "model_module_version": "1.2.0",
          "state": {
            "_model_module": "@jupyter-widgets/base",
            "_model_module_version": "1.2.0",
            "_model_name": "LayoutModel",
            "_view_count": null,
            "_view_module": "@jupyter-widgets/base",
            "_view_module_version": "1.2.0",
            "_view_name": "LayoutView",
            "align_content": null,
            "align_items": null,
            "align_self": null,
            "border": null,
            "bottom": null,
            "display": null,
            "flex": null,
            "flex_flow": null,
            "grid_area": null,
            "grid_auto_columns": null,
            "grid_auto_flow": null,
            "grid_auto_rows": null,
            "grid_column": null,
            "grid_gap": null,
            "grid_row": null,
            "grid_template_areas": null,
            "grid_template_columns": null,
            "grid_template_rows": null,
            "height": null,
            "justify_content": null,
            "justify_items": null,
            "left": null,
            "margin": null,
            "max_height": null,
            "max_width": null,
            "min_height": null,
            "min_width": null,
            "object_fit": null,
            "object_position": null,
            "order": null,
            "overflow": null,
            "overflow_x": null,
            "overflow_y": null,
            "padding": null,
            "right": null,
            "top": null,
            "visibility": null,
            "width": null
          }
        },
        "b74313c45f544c5eaed6e2ff4d081639": {
          "model_module": "@jupyter-widgets/controls",
          "model_name": "DescriptionStyleModel",
          "model_module_version": "1.5.0",
          "state": {
            "_model_module": "@jupyter-widgets/controls",
            "_model_module_version": "1.5.0",
            "_model_name": "DescriptionStyleModel",
            "_view_count": null,
            "_view_module": "@jupyter-widgets/base",
            "_view_module_version": "1.2.0",
            "_view_name": "StyleView",
            "description_width": ""
          }
        },
        "74b3c398be76415f8aa47ae430a235c6": {
          "model_module": "@jupyter-widgets/base",
          "model_name": "LayoutModel",
          "model_module_version": "1.2.0",
          "state": {
            "_model_module": "@jupyter-widgets/base",
            "_model_module_version": "1.2.0",
            "_model_name": "LayoutModel",
            "_view_count": null,
            "_view_module": "@jupyter-widgets/base",
            "_view_module_version": "1.2.0",
            "_view_name": "LayoutView",
            "align_content": null,
            "align_items": null,
            "align_self": null,
            "border": null,
            "bottom": null,
            "display": null,
            "flex": null,
            "flex_flow": null,
            "grid_area": null,
            "grid_auto_columns": null,
            "grid_auto_flow": null,
            "grid_auto_rows": null,
            "grid_column": null,
            "grid_gap": null,
            "grid_row": null,
            "grid_template_areas": null,
            "grid_template_columns": null,
            "grid_template_rows": null,
            "height": null,
            "justify_content": null,
            "justify_items": null,
            "left": null,
            "margin": null,
            "max_height": null,
            "max_width": null,
            "min_height": null,
            "min_width": null,
            "object_fit": null,
            "object_position": null,
            "order": null,
            "overflow": null,
            "overflow_x": null,
            "overflow_y": null,
            "padding": null,
            "right": null,
            "top": null,
            "visibility": null,
            "width": "20px"
          }
        },
        "1aa36b0072bd40149ac5a3e3028f7ff8": {
          "model_module": "@jupyter-widgets/controls",
          "model_name": "ProgressStyleModel",
          "model_module_version": "1.5.0",
          "state": {
            "_model_module": "@jupyter-widgets/controls",
            "_model_module_version": "1.5.0",
            "_model_name": "ProgressStyleModel",
            "_view_count": null,
            "_view_module": "@jupyter-widgets/base",
            "_view_module_version": "1.2.0",
            "_view_name": "StyleView",
            "bar_color": null,
            "description_width": ""
          }
        },
        "046d66abf6a14c8084e0582c7044ac16": {
          "model_module": "@jupyter-widgets/base",
          "model_name": "LayoutModel",
          "model_module_version": "1.2.0",
          "state": {
            "_model_module": "@jupyter-widgets/base",
            "_model_module_version": "1.2.0",
            "_model_name": "LayoutModel",
            "_view_count": null,
            "_view_module": "@jupyter-widgets/base",
            "_view_module_version": "1.2.0",
            "_view_name": "LayoutView",
            "align_content": null,
            "align_items": null,
            "align_self": null,
            "border": null,
            "bottom": null,
            "display": null,
            "flex": null,
            "flex_flow": null,
            "grid_area": null,
            "grid_auto_columns": null,
            "grid_auto_flow": null,
            "grid_auto_rows": null,
            "grid_column": null,
            "grid_gap": null,
            "grid_row": null,
            "grid_template_areas": null,
            "grid_template_columns": null,
            "grid_template_rows": null,
            "height": null,
            "justify_content": null,
            "justify_items": null,
            "left": null,
            "margin": null,
            "max_height": null,
            "max_width": null,
            "min_height": null,
            "min_width": null,
            "object_fit": null,
            "object_position": null,
            "order": null,
            "overflow": null,
            "overflow_x": null,
            "overflow_y": null,
            "padding": null,
            "right": null,
            "top": null,
            "visibility": null,
            "width": null
          }
        },
        "69a5a9c3d7b04f9da9355517bf32db31": {
          "model_module": "@jupyter-widgets/controls",
          "model_name": "DescriptionStyleModel",
          "model_module_version": "1.5.0",
          "state": {
            "_model_module": "@jupyter-widgets/controls",
            "_model_module_version": "1.5.0",
            "_model_name": "DescriptionStyleModel",
            "_view_count": null,
            "_view_module": "@jupyter-widgets/base",
            "_view_module_version": "1.2.0",
            "_view_name": "StyleView",
            "description_width": ""
          }
        },
        "5689186b40c847b68da9df4ddad9059c": {
          "model_module": "@jupyter-widgets/controls",
          "model_name": "HBoxModel",
          "model_module_version": "1.5.0",
          "state": {
            "_dom_classes": [],
            "_model_module": "@jupyter-widgets/controls",
            "_model_module_version": "1.5.0",
            "_model_name": "HBoxModel",
            "_view_count": null,
            "_view_module": "@jupyter-widgets/controls",
            "_view_module_version": "1.5.0",
            "_view_name": "HBoxView",
            "box_style": "",
            "children": [
              "IPY_MODEL_f6ddf548baa44cee80c29f956645599a",
              "IPY_MODEL_342b1e174abe47278a8ef03e328aa7f8",
              "IPY_MODEL_b3f4792dc78c497b9e33c1527834d5b7"
            ],
            "layout": "IPY_MODEL_b5176a0604dc480e9c44d6f91b01f0b5"
          }
        },
        "f6ddf548baa44cee80c29f956645599a": {
          "model_module": "@jupyter-widgets/controls",
          "model_name": "HTMLModel",
          "model_module_version": "1.5.0",
          "state": {
            "_dom_classes": [],
            "_model_module": "@jupyter-widgets/controls",
            "_model_module_version": "1.5.0",
            "_model_name": "HTMLModel",
            "_view_count": null,
            "_view_module": "@jupyter-widgets/controls",
            "_view_module_version": "1.5.0",
            "_view_name": "HTMLView",
            "description": "",
            "description_tooltip": null,
            "layout": "IPY_MODEL_dd624d27ba274126af5327e96eb9c4a6",
            "placeholder": "​",
            "style": "IPY_MODEL_9fd8387656984d8b84cbe2b021ccd131",
            "value": "Shuffling /root/tensorflow_datasets/cats_vs_dogs/incomplete.UONRYM_4.0.1/cats_vs_dogs-train.tfrecord*...:  77%"
          }
        },
        "342b1e174abe47278a8ef03e328aa7f8": {
          "model_module": "@jupyter-widgets/controls",
          "model_name": "FloatProgressModel",
          "model_module_version": "1.5.0",
          "state": {
            "_dom_classes": [],
            "_model_module": "@jupyter-widgets/controls",
            "_model_module_version": "1.5.0",
            "_model_name": "FloatProgressModel",
            "_view_count": null,
            "_view_module": "@jupyter-widgets/controls",
            "_view_module_version": "1.5.0",
            "_view_name": "ProgressView",
            "bar_style": "",
            "description": "",
            "description_tooltip": null,
            "layout": "IPY_MODEL_4d8d053d6b0747b4bb6b1f0d6747c40e",
            "max": 23262,
            "min": 0,
            "orientation": "horizontal",
            "style": "IPY_MODEL_c75da19bee0048f59f371291efb8807a",
            "value": 23262
          }
        },
        "b3f4792dc78c497b9e33c1527834d5b7": {
          "model_module": "@jupyter-widgets/controls",
          "model_name": "HTMLModel",
          "model_module_version": "1.5.0",
          "state": {
            "_dom_classes": [],
            "_model_module": "@jupyter-widgets/controls",
            "_model_module_version": "1.5.0",
            "_model_name": "HTMLModel",
            "_view_count": null,
            "_view_module": "@jupyter-widgets/controls",
            "_view_module_version": "1.5.0",
            "_view_name": "HTMLView",
            "description": "",
            "description_tooltip": null,
            "layout": "IPY_MODEL_c0f51f1daab14291a72668dfb4213014",
            "placeholder": "​",
            "style": "IPY_MODEL_14218bda7f9e4e3f867bdd9f7abdb83f",
            "value": " 17987/23262 [00:03&lt;00:00, 6276.57 examples/s]"
          }
        },
        "b5176a0604dc480e9c44d6f91b01f0b5": {
          "model_module": "@jupyter-widgets/base",
          "model_name": "LayoutModel",
          "model_module_version": "1.2.0",
          "state": {
            "_model_module": "@jupyter-widgets/base",
            "_model_module_version": "1.2.0",
            "_model_name": "LayoutModel",
            "_view_count": null,
            "_view_module": "@jupyter-widgets/base",
            "_view_module_version": "1.2.0",
            "_view_name": "LayoutView",
            "align_content": null,
            "align_items": null,
            "align_self": null,
            "border": null,
            "bottom": null,
            "display": null,
            "flex": null,
            "flex_flow": null,
            "grid_area": null,
            "grid_auto_columns": null,
            "grid_auto_flow": null,
            "grid_auto_rows": null,
            "grid_column": null,
            "grid_gap": null,
            "grid_row": null,
            "grid_template_areas": null,
            "grid_template_columns": null,
            "grid_template_rows": null,
            "height": null,
            "justify_content": null,
            "justify_items": null,
            "left": null,
            "margin": null,
            "max_height": null,
            "max_width": null,
            "min_height": null,
            "min_width": null,
            "object_fit": null,
            "object_position": null,
            "order": null,
            "overflow": null,
            "overflow_x": null,
            "overflow_y": null,
            "padding": null,
            "right": null,
            "top": null,
            "visibility": "hidden",
            "width": null
          }
        },
        "dd624d27ba274126af5327e96eb9c4a6": {
          "model_module": "@jupyter-widgets/base",
          "model_name": "LayoutModel",
          "model_module_version": "1.2.0",
          "state": {
            "_model_module": "@jupyter-widgets/base",
            "_model_module_version": "1.2.0",
            "_model_name": "LayoutModel",
            "_view_count": null,
            "_view_module": "@jupyter-widgets/base",
            "_view_module_version": "1.2.0",
            "_view_name": "LayoutView",
            "align_content": null,
            "align_items": null,
            "align_self": null,
            "border": null,
            "bottom": null,
            "display": null,
            "flex": null,
            "flex_flow": null,
            "grid_area": null,
            "grid_auto_columns": null,
            "grid_auto_flow": null,
            "grid_auto_rows": null,
            "grid_column": null,
            "grid_gap": null,
            "grid_row": null,
            "grid_template_areas": null,
            "grid_template_columns": null,
            "grid_template_rows": null,
            "height": null,
            "justify_content": null,
            "justify_items": null,
            "left": null,
            "margin": null,
            "max_height": null,
            "max_width": null,
            "min_height": null,
            "min_width": null,
            "object_fit": null,
            "object_position": null,
            "order": null,
            "overflow": null,
            "overflow_x": null,
            "overflow_y": null,
            "padding": null,
            "right": null,
            "top": null,
            "visibility": null,
            "width": null
          }
        },
        "9fd8387656984d8b84cbe2b021ccd131": {
          "model_module": "@jupyter-widgets/controls",
          "model_name": "DescriptionStyleModel",
          "model_module_version": "1.5.0",
          "state": {
            "_model_module": "@jupyter-widgets/controls",
            "_model_module_version": "1.5.0",
            "_model_name": "DescriptionStyleModel",
            "_view_count": null,
            "_view_module": "@jupyter-widgets/base",
            "_view_module_version": "1.2.0",
            "_view_name": "StyleView",
            "description_width": ""
          }
        },
        "4d8d053d6b0747b4bb6b1f0d6747c40e": {
          "model_module": "@jupyter-widgets/base",
          "model_name": "LayoutModel",
          "model_module_version": "1.2.0",
          "state": {
            "_model_module": "@jupyter-widgets/base",
            "_model_module_version": "1.2.0",
            "_model_name": "LayoutModel",
            "_view_count": null,
            "_view_module": "@jupyter-widgets/base",
            "_view_module_version": "1.2.0",
            "_view_name": "LayoutView",
            "align_content": null,
            "align_items": null,
            "align_self": null,
            "border": null,
            "bottom": null,
            "display": null,
            "flex": null,
            "flex_flow": null,
            "grid_area": null,
            "grid_auto_columns": null,
            "grid_auto_flow": null,
            "grid_auto_rows": null,
            "grid_column": null,
            "grid_gap": null,
            "grid_row": null,
            "grid_template_areas": null,
            "grid_template_columns": null,
            "grid_template_rows": null,
            "height": null,
            "justify_content": null,
            "justify_items": null,
            "left": null,
            "margin": null,
            "max_height": null,
            "max_width": null,
            "min_height": null,
            "min_width": null,
            "object_fit": null,
            "object_position": null,
            "order": null,
            "overflow": null,
            "overflow_x": null,
            "overflow_y": null,
            "padding": null,
            "right": null,
            "top": null,
            "visibility": null,
            "width": null
          }
        },
        "c75da19bee0048f59f371291efb8807a": {
          "model_module": "@jupyter-widgets/controls",
          "model_name": "ProgressStyleModel",
          "model_module_version": "1.5.0",
          "state": {
            "_model_module": "@jupyter-widgets/controls",
            "_model_module_version": "1.5.0",
            "_model_name": "ProgressStyleModel",
            "_view_count": null,
            "_view_module": "@jupyter-widgets/base",
            "_view_module_version": "1.2.0",
            "_view_name": "StyleView",
            "bar_color": null,
            "description_width": ""
          }
        },
        "c0f51f1daab14291a72668dfb4213014": {
          "model_module": "@jupyter-widgets/base",
          "model_name": "LayoutModel",
          "model_module_version": "1.2.0",
          "state": {
            "_model_module": "@jupyter-widgets/base",
            "_model_module_version": "1.2.0",
            "_model_name": "LayoutModel",
            "_view_count": null,
            "_view_module": "@jupyter-widgets/base",
            "_view_module_version": "1.2.0",
            "_view_name": "LayoutView",
            "align_content": null,
            "align_items": null,
            "align_self": null,
            "border": null,
            "bottom": null,
            "display": null,
            "flex": null,
            "flex_flow": null,
            "grid_area": null,
            "grid_auto_columns": null,
            "grid_auto_flow": null,
            "grid_auto_rows": null,
            "grid_column": null,
            "grid_gap": null,
            "grid_row": null,
            "grid_template_areas": null,
            "grid_template_columns": null,
            "grid_template_rows": null,
            "height": null,
            "justify_content": null,
            "justify_items": null,
            "left": null,
            "margin": null,
            "max_height": null,
            "max_width": null,
            "min_height": null,
            "min_width": null,
            "object_fit": null,
            "object_position": null,
            "order": null,
            "overflow": null,
            "overflow_x": null,
            "overflow_y": null,
            "padding": null,
            "right": null,
            "top": null,
            "visibility": null,
            "width": null
          }
        },
        "14218bda7f9e4e3f867bdd9f7abdb83f": {
          "model_module": "@jupyter-widgets/controls",
          "model_name": "DescriptionStyleModel",
          "model_module_version": "1.5.0",
          "state": {
            "_model_module": "@jupyter-widgets/controls",
            "_model_module_version": "1.5.0",
            "_model_name": "DescriptionStyleModel",
            "_view_count": null,
            "_view_module": "@jupyter-widgets/base",
            "_view_module_version": "1.2.0",
            "_view_name": "StyleView",
            "description_width": ""
          }
        }
      }
    }
  },
  "cells": [
    {
      "cell_type": "markdown",
      "source": [
        "# Projeto de Transfer Learning com Python: Gatos vs. Cães"
      ],
      "metadata": {
        "id": "RWg_5x1Mp5SE"
      }
    },
    {
      "cell_type": "markdown",
      "source": [
        "## Introdução\n",
        "\n",
        "Este notebook é um guia prático para construir um classificador de imagens de alta precisão usando a técnica de Aprendizagem por Transferência (Transfer Learning). O objetivo é treinar um modelo capaz de diferenciar imagens de gatos e cães com grande acurácia.\n",
        "\n",
        "Em vez de construir e treinar uma rede neural do zero (o que exigiria muitos dados e tempo), vamos usar o conhecimento de um modelo especialista já treinado, o VGG16. Será \"congelado\" o conhecimento base do VGG16 e treinado apenas uma nova camada final para uma tarefa específica. Este método é extremamente eficiente e poderoso, permitindo obter resultados de ponta com muito menos esforço."
      ],
      "metadata": {
        "id": "JPLD0S6Cpzq3"
      }
    },
    {
      "cell_type": "markdown",
      "source": [
        "##  Importar as Bibliotecas\n",
        "\n",
        "Nesta primeira célula, serão importadas todas as ferramentas necessárias para o o projeto.\n",
        "\n",
        "- `tensorflow` e `tensorflow_datasets`: A principal biblioteca de machine learning e seu módulo para carregar datasets facilmente.\n",
        "\n",
        "- `VGG16` e` preprocess_input`: O modelo pré-treinado que será usado como base e sua função específica de pré-processamento de imagem.\n",
        "\n",
        "- `Sequential`, `Flatten`,` Dense`: Componentes do Keras para construir o novo modelo.\n",
        "\n",
        "- `matplotlib.pyplot`: Para visualizar os resultados do treinamento no final."
      ],
      "metadata": {
        "id": "zBsqTFpaqBZZ"
      }
    },
    {
      "cell_type": "code",
      "execution_count": 1,
      "metadata": {
        "id": "8xuJE6-chG1S"
      },
      "outputs": [],
      "source": [
        "import tensorflow as tf\n",
        "import tensorflow_datasets as tfds\n",
        "\n",
        "from tensorflow.keras.applications.vgg16 import VGG16\n",
        "from tensorflow.keras.applications.vgg16 import preprocess_input\n",
        "\n",
        "from tensorflow.keras.models import Sequential\n",
        "\n",
        "from tensorflow.keras.layers import Flatten, Dense, Dropout, RandomFlip, RandomRotation, RandomZoom\n",
        "\n",
        "from tensorflow.keras.callbacks import EarlyStopping\n",
        "\n",
        "import matplotlib.pyplot as plt"
      ]
    },
    {
      "cell_type": "markdown",
      "source": [
        "## Carregar o Dataset \"cats_vs_dogs\"\n",
        "\n",
        "Aqui, será usada a biblioteca `tensorflow_datasets` para baixar e carregar o conjunto de dados. Este método é muito mais simples do que gerenciar os arquivos manualmente.\n",
        "\n",
        "O dataset foi dividido da seguinte forma:\n",
        "\n",
        "- **80% para Treinamento**: Dados que o modelo usará para aprender.\n",
        "- **10% para Validaçã**o: Dados para verificar o desempenho do modelo durante o treinamento e ajustar os parâmetros.\n",
        "- **10% para Teste**: Dados completamente novos que o modelo só verá no final, para uma avaliação imparcial da sua performance.\n",
        "\n"
      ],
      "metadata": {
        "id": "j7k6Le5nqfk2"
      }
    },
    {
      "cell_type": "code",
      "source": [
        "# Carrega o dataset com as divisões especificadas\n",
        "(train_dataset, validation_dataset, test_dataset), info = tfds.load(\n",
        "    'cats_vs_dogs',\n",
        "    split=['train[:80%]', 'train[80%:90%]', 'train[90%:]'],\n",
        "    with_info=True,\n",
        "    as_supervised=True,\n",
        ")\n",
        "\n",
        "# Imprime informações sobre o dataset\n",
        "print(\"Informações do dataset:\", info)"
      ],
      "metadata": {
        "colab": {
          "base_uri": "https://localhost:8080/",
          "height": 723,
          "referenced_widgets": [
            "cc850dbe4a7c4d9da6e604105f559b51",
            "bc69c74e6b6d4ab7b9040317695e31c6",
            "711b64dbaf264ba781655ebc66377e96",
            "546bb9d0479e4aa18689d35f2ae18b7c",
            "105622ca11e14586ab9cbfd70116cc19",
            "a68bea03ea054f7684090cfb97631e1c",
            "2552fa22b28447d1b3f1938aadc2d808",
            "84a5eb701fe54d479fe64473a8ac7872",
            "ec3e9847601043b393167c4bd7f1bec4",
            "60e6312c4dfd4e64b5b8370dda6a5f98",
            "2727848d3e814199924bf3e8da469122",
            "8f3d8ac54551446a973fa5f232fa5731",
            "8fbf9dd17c2b490dbfa0f820687ccd9a",
            "2c35bcde1ee7433bb388b4b579dd3b76",
            "8eff37d1d8964c20bad4c29fb60e4c1b",
            "5e9f887425cd42c0b5e2876a74aacb07",
            "7cfaffadd7014ddf9ec2d2ac45c49b17",
            "c4181639c3b449bf89b9e2df7b4d089c",
            "2067d5eee87043de895ee069ebf63925",
            "140edae2c13a43719396be9545189c30",
            "b8f4d5be6180426dbaaa9870afd83895",
            "1a8bb64298094517b1a648868ea6fb5b",
            "a89bd57a216c47cb8d5d5b0e6377c7d9",
            "acce19c65dcd476990dc1132fc7e67a2",
            "51af5830e76a4c5d941a6f4818dda96a",
            "95cbe4995fcc44daa7a61b57ed034fed",
            "9af0b48e7a6547fc89ce9bfaa3e3ee61",
            "4a47694828294a7889c7ec9126398c46",
            "b8dbbd00831c4dc38edc1d844c40db58",
            "69b5105ac77b4f37a7d951b5f6fceb8b",
            "f11c06391ac14ac2bce2e0c4f5573c2c",
            "e1a95bf87e694e50b6520994ae97f19f",
            "7c1962d8090f44a9b6426f278cf4eaf0",
            "a8e103ab08a94d2fbf35d3f64329d141",
            "95a2699b7d3b40b9a40f77cf9f6227b5",
            "22dc70456cd04ad4be060f749c1f54b7",
            "b66b5fce04ae4c79afda9465c244df2e",
            "b000b1e6b660426697687830eb85e090",
            "cc249b0eafdd4548ac807300cf047103",
            "b74313c45f544c5eaed6e2ff4d081639",
            "74b3c398be76415f8aa47ae430a235c6",
            "1aa36b0072bd40149ac5a3e3028f7ff8",
            "046d66abf6a14c8084e0582c7044ac16",
            "69a5a9c3d7b04f9da9355517bf32db31",
            "5689186b40c847b68da9df4ddad9059c",
            "f6ddf548baa44cee80c29f956645599a",
            "342b1e174abe47278a8ef03e328aa7f8",
            "b3f4792dc78c497b9e33c1527834d5b7",
            "b5176a0604dc480e9c44d6f91b01f0b5",
            "dd624d27ba274126af5327e96eb9c4a6",
            "9fd8387656984d8b84cbe2b021ccd131",
            "4d8d053d6b0747b4bb6b1f0d6747c40e",
            "c75da19bee0048f59f371291efb8807a",
            "c0f51f1daab14291a72668dfb4213014",
            "14218bda7f9e4e3f867bdd9f7abdb83f"
          ]
        },
        "id": "CjMwISgmhiKG",
        "outputId": "3941b156-c5fe-4d9e-8508-01f488967311"
      },
      "execution_count": 2,
      "outputs": [
        {
          "output_type": "stream",
          "name": "stderr",
          "text": [
            "WARNING:absl:Variant folder /root/tensorflow_datasets/cats_vs_dogs/4.0.1 has no dataset_info.json\n"
          ]
        },
        {
          "output_type": "stream",
          "name": "stdout",
          "text": [
            "Downloading and preparing dataset Unknown size (download: Unknown size, generated: Unknown size, total: Unknown size) to /root/tensorflow_datasets/cats_vs_dogs/4.0.1...\n"
          ]
        },
        {
          "output_type": "display_data",
          "data": {
            "text/plain": [
              "Dl Completed...: 0 url [00:00, ? url/s]"
            ],
            "application/vnd.jupyter.widget-view+json": {
              "version_major": 2,
              "version_minor": 0,
              "model_id": "cc850dbe4a7c4d9da6e604105f559b51"
            }
          },
          "metadata": {}
        },
        {
          "output_type": "display_data",
          "data": {
            "text/plain": [
              "Dl Size...: 0 MiB [00:00, ? MiB/s]"
            ],
            "application/vnd.jupyter.widget-view+json": {
              "version_major": 2,
              "version_minor": 0,
              "model_id": "8f3d8ac54551446a973fa5f232fa5731"
            }
          },
          "metadata": {}
        },
        {
          "output_type": "display_data",
          "data": {
            "text/plain": [
              "Generating splits...:   0%|          | 0/1 [00:00<?, ? splits/s]"
            ],
            "application/vnd.jupyter.widget-view+json": {
              "version_major": 2,
              "version_minor": 0,
              "model_id": "a89bd57a216c47cb8d5d5b0e6377c7d9"
            }
          },
          "metadata": {}
        },
        {
          "output_type": "display_data",
          "data": {
            "text/plain": [
              "Generating train examples...: 0 examples [00:00, ? examples/s]"
            ],
            "application/vnd.jupyter.widget-view+json": {
              "version_major": 2,
              "version_minor": 0,
              "model_id": "a8e103ab08a94d2fbf35d3f64329d141"
            }
          },
          "metadata": {}
        },
        {
          "output_type": "stream",
          "name": "stderr",
          "text": [
            "WARNING:absl:1738 images were corrupted and were skipped\n"
          ]
        },
        {
          "output_type": "display_data",
          "data": {
            "text/plain": [
              "Shuffling /root/tensorflow_datasets/cats_vs_dogs/incomplete.UONRYM_4.0.1/cats_vs_dogs-train.tfrecord*...:   0%…"
            ],
            "application/vnd.jupyter.widget-view+json": {
              "version_major": 2,
              "version_minor": 0,
              "model_id": "5689186b40c847b68da9df4ddad9059c"
            }
          },
          "metadata": {}
        },
        {
          "output_type": "stream",
          "name": "stdout",
          "text": [
            "Dataset cats_vs_dogs downloaded and prepared to /root/tensorflow_datasets/cats_vs_dogs/4.0.1. Subsequent calls will reuse this data.\n",
            "Informações do dataset: tfds.core.DatasetInfo(\n",
            "    name='cats_vs_dogs',\n",
            "    full_name='cats_vs_dogs/4.0.1',\n",
            "    description=\"\"\"\n",
            "    A large set of images of cats and dogs. There are 1738 corrupted images that are dropped.\n",
            "    \"\"\",\n",
            "    homepage='https://www.microsoft.com/en-us/download/details.aspx?id=54765',\n",
            "    data_dir='/root/tensorflow_datasets/cats_vs_dogs/4.0.1',\n",
            "    file_format=tfrecord,\n",
            "    download_size=786.67 MiB,\n",
            "    dataset_size=1.04 GiB,\n",
            "    features=FeaturesDict({\n",
            "        'image': Image(shape=(None, None, 3), dtype=uint8),\n",
            "        'image/filename': Text(shape=(), dtype=string),\n",
            "        'label': ClassLabel(shape=(), dtype=int64, num_classes=2),\n",
            "    }),\n",
            "    supervised_keys=('image', 'label'),\n",
            "    disable_shuffling=False,\n",
            "    nondeterministic_order=False,\n",
            "    splits={\n",
            "        'train': <SplitInfo num_examples=23262, num_shards=16>,\n",
            "    },\n",
            "    citation=\"\"\"@Inproceedings (Conference){asirra-a-captcha-that-exploits-interest-aligned-manual-image-categorization,\n",
            "    author = {Elson, Jeremy and Douceur, John (JD) and Howell, Jon and Saul, Jared},\n",
            "    title = {Asirra: A CAPTCHA that Exploits Interest-Aligned Manual Image Categorization},\n",
            "    booktitle = {Proceedings of 14th ACM Conference on Computer and Communications Security (CCS)},\n",
            "    year = {2007},\n",
            "    month = {October},\n",
            "    publisher = {Association for Computing Machinery, Inc.},\n",
            "    url = {https://www.microsoft.com/en-us/research/publication/asirra-a-captcha-that-exploits-interest-aligned-manual-image-categorization/},\n",
            "    edition = {Proceedings of 14th ACM Conference on Computer and Communications Security (CCS)},\n",
            "    }\"\"\",\n",
            ")\n"
          ]
        }
      ]
    },
    {
      "cell_type": "markdown",
      "source": [
        "## Criar a Função de Pré-processamento\n",
        "Para tornar o modelo mais robusto e evitar o overfitting, foi criado um pipeline de pré-processamento em duas etapas:\n",
        "\n",
        "1. Aumento de Dados (Data Augmentation): Um pequeno modelo sequencial (`data_augmentation`) é criado para aplicar transformações aleatórias (inversão horizontal, rotação e zoom) apenas nas imagens de treinamento. Isso cria novas variantes das imagens a cada época, forçando o modelo a aprender características mais gerais.\n",
        "\n",
        "2. Função de Formatação: A função `format_image` tem a responsabilidade de redimensionar todas as imagens para o formato de entrada do VGG16, que é `224x224` pixels. Outras etapas, como a normalização, serão aplicadas posteriormente.\""
      ],
      "metadata": {
        "id": "kBlgSvSQtE2O"
      }
    },
    {
      "cell_type": "code",
      "source": [
        "IMG_SIZE = (224, 224) # Tamanho de imagem esperado pelo VGG16\n",
        "\n",
        "# Modelo de Aumento de Dados\n",
        "# Cria um pequeno modelo sequencial para aplicar transformações nas imagens\n",
        "data_augmentation = Sequential([\n",
        "    RandomFlip(\"horizontal\"),\n",
        "    RandomRotation(0.2),\n",
        "    RandomZoom(0.2),\n",
        "])\n",
        "\n",
        "# A função apenas redimensiona a imagem.\n",
        "# O pré-processamento do VGG16 e o aumento de dados serão aplicados depois.\n",
        "def format_image(image, label):\n",
        "  \"\"\"\n",
        "  Apenas redimensiona a imagem para 224x224.\n",
        "  \"\"\"\n",
        "  image = tf.image.resize(image, IMG_SIZE)\n",
        "  return image, label"
      ],
      "metadata": {
        "id": "RqoVk8jLhj6R"
      },
      "execution_count": 3,
      "outputs": []
    },
    {
      "cell_type": "markdown",
      "source": [
        "## Aplicar o Pré-processamento e Preparar os Lotes (Batches)\n",
        "Nesta etapa, foram construídos os pipelines de dados de forma otimizada para treino, validação e teste.\n",
        "\n",
        "- Primeiro, a função `format_image` (redimensionamento) é aplicada a todos os conjuntos.\n",
        "\n",
        "- Pipeline de Treino: É o mais sofisticado. As imagens são agrupadas em lotes (`batch`), depois passam pelo modelo de aumento de dados (`data_augmentation`) e, finalmente, pela função de pré-processamento do VGG16 (`preprocess_input`).\n",
        "\n",
        "- Pipelines de Validação e Teste: Para estes conjuntos, foram aplicados apenas o `batch` e o `preprocess_input`. É crucial não aplicar o aumento de dados aqui para garantir uma avaliação consistente e imparcial do modelo.\n",
        "\n",
        "- `.prefetch()`: Otimiza a performance, preparando o próximo lote de dados enquanto o lote atual está sendo processado.\""
      ],
      "metadata": {
        "id": "eWgVHR4FqmZ8"
      }
    },
    {
      "cell_type": "code",
      "source": [
        "BATCH_SIZE = 32\n",
        "\n",
        "# Aplica a função de redimensionamento a todos os datasets\n",
        "train_dataset_resized = train_dataset.map(format_image)\n",
        "validation_dataset_resized = validation_dataset.map(format_image)\n",
        "test_dataset_resized = test_dataset.map(format_image)\n",
        "\n",
        "# --- Pipeline de Dados de Treino ---\n",
        "# Agrupa em lotes, aplica o aumento de dados e depois o pré-processamento do VGG16\n",
        "train_batches = train_dataset_resized.batch(BATCH_SIZE) \\\n",
        "                                   .map(lambda x, y: (data_augmentation(x, training=True), y)) \\\n",
        "                                   .map(lambda x, y: (preprocess_input(x), y)) \\\n",
        "                                   .prefetch(1)\n",
        "\n",
        "# --- Pipelines de Validação e Teste ---\n",
        "# Apenas agrupa em lotes e aplica o pré-processamento do VGG16 (sem aumento de dados)\n",
        "validation_batches = validation_dataset_resized.batch(BATCH_SIZE) \\\n",
        "                                               .map(lambda x, y: (preprocess_input(x), y)) \\\n",
        "                                               .prefetch(1)\n",
        "\n",
        "test_batches = test_dataset_resized.batch(BATCH_SIZE) \\\n",
        "                                     .map(lambda x, y: (preprocess_input(x), y)) \\\n",
        "                                     .prefetch(1)"
      ],
      "metadata": {
        "id": "4GmJ1DzpiKxp"
      },
      "execution_count": 4,
      "outputs": []
    },
    {
      "cell_type": "markdown",
      "source": [
        "## Montar o Modelo com a Base VGG16 \"Congelada\"\n",
        "Esta é a célula central para a estratégia de Transfer Learning.\n",
        "\n",
        "1. Carregamento da base do VGG16: Foi usado o `include_top=False` para carregar apenas a parte de extração de características do modelo.\n",
        "\n",
        "2. Congelammento da base: Com `vgg_base.trainable = False`, foi garantido que os pesos já aprendidos pelo VGG16 não serão alterados durante o treino.\n",
        "\n",
        "3. Criaçao do novo modelo: Foi adicionado a base VGG16 congelada e, no topo dela, colocamos as novas camadas:\n",
        "\n",
        "  - `Flatten`: Transforma a saída da base VGG16 em um vetor simples.\n",
        "\n",
        "  - `Dropout(0.5)`: Uma camada de regularização que \"desliga\" aleatoriamente 50% dos neurônios durante o treino para combater o overfitting.\n",
        "\n",
        "  - `Dense(1, activation='sigmoid')`: A camada final de classificação para o problema binário (cão ou gato).\n",
        "\n",
        "4. Exibição do resumo: O `model.summary()` mostra a arquitetura completa do nosso novo modelo.\""
      ],
      "metadata": {
        "id": "otym90SPtzEs"
      }
    },
    {
      "cell_type": "code",
      "source": [
        "# 1. Carrega a base do VGG16 sem as camadas de topo (classificação)\n",
        "vgg_base = VGG16(\n",
        "    weights='imagenet',\n",
        "    include_top=False,\n",
        "    input_shape=(224, 224, 3)\n",
        ")\n",
        "\n",
        "# 2. Congela a base convolucional\n",
        "vgg_base.trainable = False\n",
        "\n",
        "# 3. Cria o novo modelo sequencial\n",
        "model = Sequential([\n",
        "    vgg_base,\n",
        "    Flatten(),\n",
        "    Dropout(0.5), # \"Desliga\" 50% dos neurônios para evitar memorização\n",
        "    Dense(1, activation='sigmoid') # 1 neurônio para classificação binária\n",
        "])\n",
        "\n",
        "# 4. Exibe o resumo do modelo\n",
        "model.summary()"
      ],
      "metadata": {
        "colab": {
          "base_uri": "https://localhost:8080/",
          "height": 292
        },
        "id": "6zuVB1i3iSph",
        "outputId": "bf019d21-8ba8-47ee-dd78-3cb166d52026"
      },
      "execution_count": 5,
      "outputs": [
        {
          "output_type": "stream",
          "name": "stdout",
          "text": [
            "Downloading data from https://storage.googleapis.com/tensorflow/keras-applications/vgg16/vgg16_weights_tf_dim_ordering_tf_kernels_notop.h5\n",
            "\u001b[1m58889256/58889256\u001b[0m \u001b[32m━━━━━━━━━━━━━━━━━━━━\u001b[0m\u001b[37m\u001b[0m \u001b[1m2s\u001b[0m 0us/step\n"
          ]
        },
        {
          "output_type": "display_data",
          "data": {
            "text/plain": [
              "\u001b[1mModel: \"sequential_1\"\u001b[0m\n"
            ],
            "text/html": [
              "<pre style=\"white-space:pre;overflow-x:auto;line-height:normal;font-family:Menlo,'DejaVu Sans Mono',consolas,'Courier New',monospace\"><span style=\"font-weight: bold\">Model: \"sequential_1\"</span>\n",
              "</pre>\n"
            ]
          },
          "metadata": {}
        },
        {
          "output_type": "display_data",
          "data": {
            "text/plain": [
              "┏━━━━━━━━━━━━━━━━━━━━━━━━━━━━━━━━━┳━━━━━━━━━━━━━━━━━━━━━━━━┳━━━━━━━━━━━━━━━┓\n",
              "┃\u001b[1m \u001b[0m\u001b[1mLayer (type)                   \u001b[0m\u001b[1m \u001b[0m┃\u001b[1m \u001b[0m\u001b[1mOutput Shape          \u001b[0m\u001b[1m \u001b[0m┃\u001b[1m \u001b[0m\u001b[1m      Param #\u001b[0m\u001b[1m \u001b[0m┃\n",
              "┡━━━━━━━━━━━━━━━━━━━━━━━━━━━━━━━━━╇━━━━━━━━━━━━━━━━━━━━━━━━╇━━━━━━━━━━━━━━━┩\n",
              "│ vgg16 (\u001b[38;5;33mFunctional\u001b[0m)              │ (\u001b[38;5;45mNone\u001b[0m, \u001b[38;5;34m7\u001b[0m, \u001b[38;5;34m7\u001b[0m, \u001b[38;5;34m512\u001b[0m)      │    \u001b[38;5;34m14,714,688\u001b[0m │\n",
              "├─────────────────────────────────┼────────────────────────┼───────────────┤\n",
              "│ flatten (\u001b[38;5;33mFlatten\u001b[0m)               │ (\u001b[38;5;45mNone\u001b[0m, \u001b[38;5;34m25088\u001b[0m)          │             \u001b[38;5;34m0\u001b[0m │\n",
              "├─────────────────────────────────┼────────────────────────┼───────────────┤\n",
              "│ dropout (\u001b[38;5;33mDropout\u001b[0m)               │ (\u001b[38;5;45mNone\u001b[0m, \u001b[38;5;34m25088\u001b[0m)          │             \u001b[38;5;34m0\u001b[0m │\n",
              "├─────────────────────────────────┼────────────────────────┼───────────────┤\n",
              "│ dense (\u001b[38;5;33mDense\u001b[0m)                   │ (\u001b[38;5;45mNone\u001b[0m, \u001b[38;5;34m1\u001b[0m)              │        \u001b[38;5;34m25,089\u001b[0m │\n",
              "└─────────────────────────────────┴────────────────────────┴───────────────┘\n"
            ],
            "text/html": [
              "<pre style=\"white-space:pre;overflow-x:auto;line-height:normal;font-family:Menlo,'DejaVu Sans Mono',consolas,'Courier New',monospace\">┏━━━━━━━━━━━━━━━━━━━━━━━━━━━━━━━━━┳━━━━━━━━━━━━━━━━━━━━━━━━┳━━━━━━━━━━━━━━━┓\n",
              "┃<span style=\"font-weight: bold\"> Layer (type)                    </span>┃<span style=\"font-weight: bold\"> Output Shape           </span>┃<span style=\"font-weight: bold\">       Param # </span>┃\n",
              "┡━━━━━━━━━━━━━━━━━━━━━━━━━━━━━━━━━╇━━━━━━━━━━━━━━━━━━━━━━━━╇━━━━━━━━━━━━━━━┩\n",
              "│ vgg16 (<span style=\"color: #0087ff; text-decoration-color: #0087ff\">Functional</span>)              │ (<span style=\"color: #00d7ff; text-decoration-color: #00d7ff\">None</span>, <span style=\"color: #00af00; text-decoration-color: #00af00\">7</span>, <span style=\"color: #00af00; text-decoration-color: #00af00\">7</span>, <span style=\"color: #00af00; text-decoration-color: #00af00\">512</span>)      │    <span style=\"color: #00af00; text-decoration-color: #00af00\">14,714,688</span> │\n",
              "├─────────────────────────────────┼────────────────────────┼───────────────┤\n",
              "│ flatten (<span style=\"color: #0087ff; text-decoration-color: #0087ff\">Flatten</span>)               │ (<span style=\"color: #00d7ff; text-decoration-color: #00d7ff\">None</span>, <span style=\"color: #00af00; text-decoration-color: #00af00\">25088</span>)          │             <span style=\"color: #00af00; text-decoration-color: #00af00\">0</span> │\n",
              "├─────────────────────────────────┼────────────────────────┼───────────────┤\n",
              "│ dropout (<span style=\"color: #0087ff; text-decoration-color: #0087ff\">Dropout</span>)               │ (<span style=\"color: #00d7ff; text-decoration-color: #00d7ff\">None</span>, <span style=\"color: #00af00; text-decoration-color: #00af00\">25088</span>)          │             <span style=\"color: #00af00; text-decoration-color: #00af00\">0</span> │\n",
              "├─────────────────────────────────┼────────────────────────┼───────────────┤\n",
              "│ dense (<span style=\"color: #0087ff; text-decoration-color: #0087ff\">Dense</span>)                   │ (<span style=\"color: #00d7ff; text-decoration-color: #00d7ff\">None</span>, <span style=\"color: #00af00; text-decoration-color: #00af00\">1</span>)              │        <span style=\"color: #00af00; text-decoration-color: #00af00\">25,089</span> │\n",
              "└─────────────────────────────────┴────────────────────────┴───────────────┘\n",
              "</pre>\n"
            ]
          },
          "metadata": {}
        },
        {
          "output_type": "display_data",
          "data": {
            "text/plain": [
              "\u001b[1m Total params: \u001b[0m\u001b[38;5;34m14,739,777\u001b[0m (56.23 MB)\n"
            ],
            "text/html": [
              "<pre style=\"white-space:pre;overflow-x:auto;line-height:normal;font-family:Menlo,'DejaVu Sans Mono',consolas,'Courier New',monospace\"><span style=\"font-weight: bold\"> Total params: </span><span style=\"color: #00af00; text-decoration-color: #00af00\">14,739,777</span> (56.23 MB)\n",
              "</pre>\n"
            ]
          },
          "metadata": {}
        },
        {
          "output_type": "display_data",
          "data": {
            "text/plain": [
              "\u001b[1m Trainable params: \u001b[0m\u001b[38;5;34m25,089\u001b[0m (98.00 KB)\n"
            ],
            "text/html": [
              "<pre style=\"white-space:pre;overflow-x:auto;line-height:normal;font-family:Menlo,'DejaVu Sans Mono',consolas,'Courier New',monospace\"><span style=\"font-weight: bold\"> Trainable params: </span><span style=\"color: #00af00; text-decoration-color: #00af00\">25,089</span> (98.00 KB)\n",
              "</pre>\n"
            ]
          },
          "metadata": {}
        },
        {
          "output_type": "display_data",
          "data": {
            "text/plain": [
              "\u001b[1m Non-trainable params: \u001b[0m\u001b[38;5;34m14,714,688\u001b[0m (56.13 MB)\n"
            ],
            "text/html": [
              "<pre style=\"white-space:pre;overflow-x:auto;line-height:normal;font-family:Menlo,'DejaVu Sans Mono',consolas,'Courier New',monospace\"><span style=\"font-weight: bold\"> Non-trainable params: </span><span style=\"color: #00af00; text-decoration-color: #00af00\">14,714,688</span> (56.13 MB)\n",
              "</pre>\n"
            ]
          },
          "metadata": {}
        }
      ]
    },
    {
      "cell_type": "markdown",
      "source": [
        "## Compilar o Modelo\n",
        "Antes de treinar, é necessário \"compilar\" o modelo. Esta etapa configura o processo de aprendizado.\n",
        "\n",
        "- `optimizer`: O algoritmo `adam` é usado para ajustar os pesos do modelo e minimizar o erro.\n",
        "\n",
        "- `loss`: A função `binary_crossentropy` mede o quão erradas estão as previsões do modelo. É a escolha padrão para classificação binária com ativação sigmoid.\n",
        "\n",
        "- `metrics`: É indicada a necessidade de monitorar a `accuracy` (precisão) durante o treinamento."
      ],
      "metadata": {
        "id": "xlRdZMYMuPdE"
      }
    },
    {
      "cell_type": "code",
      "source": [
        "model.compile(\n",
        "    optimizer='adam',\n",
        "    loss='binary_crossentropy',\n",
        "    metrics=['accuracy']\n",
        ")"
      ],
      "metadata": {
        "id": "xoDgoLLSia4O"
      },
      "execution_count": 6,
      "outputs": []
    },
    {
      "cell_type": "markdown",
      "source": [
        "## Treinar o Modelo\n",
        "Agora, o treinamento começa.\n",
        "\n",
        "- **Épocas**: Foi estipulado o número de épocas para `30` para que o modelo tenha mais tempo para aprender (pode ser alterado).\n",
        "\n",
        "- **Parada Antecipada (Early Stopping)**: Foi incluído um callback que monitora a perda no conjunto de validação (`val_loss`). O treinamento será interrompido automaticamente se a perda de validação não melhorar por 3 épocas consecutivas.\n",
        "\n",
        "- **Melhores Pesos**: A opção `restore_best_weights=True` garante que, ao final do treinamento, o modelo retorne ao estado com os melhores pesos que encontrou durante o processo.\n",
        "\n",
        "Isso garante que seja obtido o melhor modelo possível sem treinar excessivamente e cair em overfitting.\""
      ],
      "metadata": {
        "id": "9rp6AJ1Oui4R"
      }
    },
    {
      "cell_type": "code",
      "source": [
        "# Épocas maiores, pois o EarlyStopping encontrará o ponto ideal\n",
        "EPOCHS = 30\n",
        "\n",
        "# --- Callback de EarlyStopping ---\n",
        "# Monitora a perda de validação e para o treino se não houver melhora por 3 épocas.\n",
        "# 'restore_best_weights=True' garante que o modelo retorne com os melhores pesos encontrados.\n",
        "early_stopping = EarlyStopping(\n",
        "    monitor='val_loss',\n",
        "    patience=3,\n",
        "    restore_best_weights=True\n",
        ")\n",
        "\n",
        "history = model.fit(\n",
        "    train_batches,\n",
        "    epochs=EPOCHS,\n",
        "    validation_data=validation_batches,\n",
        "    callbacks=[early_stopping] # Adiciona o callback ao treinamento\n",
        ")"
      ],
      "metadata": {
        "colab": {
          "base_uri": "https://localhost:8080/"
        },
        "id": "MCAU4bt9ik7W",
        "outputId": "f0dc7cf9-876d-40eb-c7a5-bcd2462d61d2"
      },
      "execution_count": 7,
      "outputs": [
        {
          "output_type": "stream",
          "name": "stdout",
          "text": [
            "Epoch 1/30\n",
            "\u001b[1m582/582\u001b[0m \u001b[32m━━━━━━━━━━━━━━━━━━━━\u001b[0m\u001b[37m\u001b[0m \u001b[1m305s\u001b[0m 499ms/step - accuracy: 0.8948 - loss: 1.8557 - val_accuracy: 0.9751 - val_loss: 0.8675\n",
            "Epoch 2/30\n",
            "\u001b[1m582/582\u001b[0m \u001b[32m━━━━━━━━━━━━━━━━━━━━\u001b[0m\u001b[37m\u001b[0m \u001b[1m275s\u001b[0m 472ms/step - accuracy: 0.9351 - loss: 2.0972 - val_accuracy: 0.9854 - val_loss: 0.7863\n",
            "Epoch 3/30\n",
            "\u001b[1m582/582\u001b[0m \u001b[32m━━━━━━━━━━━━━━━━━━━━\u001b[0m\u001b[37m\u001b[0m \u001b[1m277s\u001b[0m 475ms/step - accuracy: 0.9460 - loss: 2.1640 - val_accuracy: 0.9819 - val_loss: 1.0372\n",
            "Epoch 4/30\n",
            "\u001b[1m582/582\u001b[0m \u001b[32m━━━━━━━━━━━━━━━━━━━━\u001b[0m\u001b[37m\u001b[0m \u001b[1m275s\u001b[0m 472ms/step - accuracy: 0.9483 - loss: 2.3335 - val_accuracy: 0.9785 - val_loss: 1.4761\n",
            "Epoch 5/30\n",
            "\u001b[1m582/582\u001b[0m \u001b[32m━━━━━━━━━━━━━━━━━━━━\u001b[0m\u001b[37m\u001b[0m \u001b[1m277s\u001b[0m 476ms/step - accuracy: 0.9492 - loss: 2.6670 - val_accuracy: 0.9811 - val_loss: 1.2288\n"
          ]
        }
      ]
    },
    {
      "cell_type": "markdown",
      "source": [
        "## Avaliar o Desempenho Final\n",
        "Após o treinamento, foi utilizado o conjunto de teste (`test_batches`) para fazer uma avaliação final e imparcial do modelo. Estes são dados que o modelo nunca viu antes, representando como ele se comportaria em um cenário real."
      ],
      "metadata": {
        "id": "rGUSqj3Lu1FR"
      }
    },
    {
      "cell_type": "code",
      "source": [
        "loss, accuracy = model.evaluate(test_batches)\n",
        "\n",
        "print(\"\\n---------------------------------\")\n",
        "print(f\"Precisão no conjunto de teste: {accuracy * 100:.2f}%\")\n",
        "print(f\"Perda no conjunto de teste: {loss:.4f}\")\n",
        "print(\"---------------------------------\")"
      ],
      "metadata": {
        "id": "y_VdEMJsirI5",
        "colab": {
          "base_uri": "https://localhost:8080/"
        },
        "outputId": "ebd99b02-914c-4d09-e22f-e71d3cb0bed2"
      },
      "execution_count": 8,
      "outputs": [
        {
          "output_type": "stream",
          "name": "stdout",
          "text": [
            "\u001b[1m73/73\u001b[0m \u001b[32m━━━━━━━━━━━━━━━━━━━━\u001b[0m\u001b[37m\u001b[0m \u001b[1m12s\u001b[0m 164ms/step - accuracy: 0.9870 - loss: 0.6005\n",
            "\n",
            "---------------------------------\n",
            "Precisão no conjunto de teste: 98.45%\n",
            "Perda no conjunto de teste: 0.7229\n",
            "---------------------------------\n"
          ]
        }
      ]
    },
    {
      "cell_type": "markdown",
      "source": [
        "## Visualizar os Gráficos de Treinamento\n",
        "Finalmente, serão plotados os resultados guardados na variável `history`. Os gráficos permitem visualizar a evolução da precisão e da perda ao longo das épocas, tanto nos dados de treino quanto nos de validação. Isso é útil para entender se o modelo aprendeu bem e se não houve overfitting (quando o modelo decora os dados de treino mas não generaliza bem para novos dados)."
      ],
      "metadata": {
        "id": "INlV9UL0u7wI"
      }
    },
    {
      "cell_type": "code",
      "source": [
        "acc = history.history['accuracy']\n",
        "val_acc = history.history['val_accuracy']\n",
        "\n",
        "loss = history.history['loss']\n",
        "val_loss = history.history['val_loss']\n",
        "\n",
        "epochs_range = range(len(acc))\n",
        "\n",
        "plt.figure(figsize=(12, 5))\n",
        "plt.subplot(1, 2, 1)\n",
        "plt.plot(epochs_range, acc, label='Precisão de Treino')\n",
        "plt.plot(epochs_range, val_acc, label='Precisão de Validação')\n",
        "plt.legend(loc='lower right')\n",
        "plt.title('Precisão de Treino e Validação')\n",
        "plt.xlabel('Épocas')\n",
        "plt.ylabel('Precisão')\n",
        "\n",
        "\n",
        "plt.subplot(1, 2, 2)\n",
        "plt.plot(epochs_range, loss, label='Perda de Treino')\n",
        "plt.plot(epochs_range, val_loss, label='Perda de Validação')\n",
        "plt.legend(loc='upper right')\n",
        "plt.title('Perda de Treino e Validação')\n",
        "plt.xlabel('Épocas')\n",
        "plt.ylabel('Perda')\n",
        "\n",
        "plt.show()"
      ],
      "metadata": {
        "id": "bR901sulo1vi",
        "colab": {
          "base_uri": "https://localhost:8080/",
          "height": 489
        },
        "outputId": "5bca4ef7-8716-4526-b840-1dd26944888e"
      },
      "execution_count": 9,
      "outputs": [
        {
          "output_type": "display_data",
          "data": {
            "text/plain": [
              "<Figure size 1200x500 with 2 Axes>"
            ],
            "image/png": "[encoded data removed]"
          },
          "metadata": {}
        }
      ]
    },
    {
      "cell_type": "markdown",
      "source": [
        "## Análise dos Gráficos de Treinamento\n",
        "\n",
        "Os gráficos de precisão mostram o comportamento do modelo. Abaixo tem-se uma referência de como ele deve ser comportar.\n",
        "\n",
        "- **Sem Overfitting**: A Perda de Validação ( linha laranja, no gráfico à direita) não deve divergir da Perda de Treino. Ela se mantém baixa e estável, indicando que o modelo está generalizando bem para os dados que não viu durante o treino.\n",
        "\n",
        "- **Desempenho da Validação Superior ao do Trein**o: É comum observar que a precisão de validação é maior (e a perda é menor) que a de treino. Isso não é um erro, mas sim um efeito esperado das nossas técnicas:\n",
        "\n",
        "  1. **Dropout**: A camada de Dropout é ativa apenas durante o treino, tornando a tarefa artificialmente mais difícil para o modelo. Durante a validação, a camada é desativada e a rede completa é usada, resultando em um desempenho melhor.\n",
        "\n",
        "  2. **Aumento de Dados**: As imagens de treino são constantemente modificadas (rotacionadas, com zoom, etc.), o que também dificulta o aprendizado. As imagens de validação são as originais e \"limpas\", tornando a tarefa de predição mais fácil.\n",
        "\n",
        "- **Efeito do Early Stopping**: O gráfico pode não mostrar todas as 30 épocas. Se o treino parou antes (por exemplo, em 5 ou 8 épocas), é porque o EarlyStopping funcionou perfeitamente, concluindo o processo quando o modelo atingiu seu ponto ótimo de desempenho.\n",
        "\n"
      ],
      "metadata": {
        "id": "8OiKWS53CG2x"
      }
    },
    {
      "cell_type": "markdown",
      "source": [
        "![image.png](data:image/png;base64,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)"
      ],
      "metadata": {
        "id": "_bvuWpIcB-iX"
      }
    }
  ]
}